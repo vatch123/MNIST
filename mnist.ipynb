{
  "cells": [
    {
      "metadata": {
        "_uuid": "8f2839f25d086af736a60e9eeb907d3b93b6e0e5",
        "_cell_guid": "b1076dfc-b9ad-4769-8c92-a6c4dae69d19",
        "trusted": true
      },
      "cell_type": "code",
      "source": "# This Python 3 environment comes with many helpful analytics libraries installed\n# It is defined by the kaggle/python docker image: https://github.com/kaggle/docker-python\n# For example, here's several helpful packages to load in \n\nimport numpy as np # linear algebra\nimport pandas as pd # data processing, CSV file I/O (e.g. pd.read_csv)\nfrom keras.models import *\nfrom keras.layers import *\nfrom keras.optimizers import *\nfrom keras.utils import *\nimport matplotlib.pyplot as plt\nfrom sklearn.model_selection import train_test_split\n# Input data files are available in the \"../input/\" directory.\n# For example, running this (by clicking run or pressing Shift+Enter) will list the files in the input directory\n\nimport os\nprint(os.listdir(\"../input\"))\n\n# Any results you write to the current directory are saved as output.",
      "execution_count": 1,
      "outputs": [
        {
          "output_type": "stream",
          "text": "Using TensorFlow backend.\n",
          "name": "stderr"
        },
        {
          "output_type": "stream",
          "text": "['train.csv', 'sample_submission.csv', 'test.csv']\n",
          "name": "stdout"
        }
      ]
    },
    {
      "metadata": {
        "_cell_guid": "79c7e3d0-c299-4dcb-8224-4455121ee9b0",
        "_uuid": "d629ff2d2480ee46fbb7e2d37f6b5fab8052498a",
        "trusted": true
      },
      "cell_type": "code",
      "source": "data_train = pd.read_csv('../input/train.csv')\ndata_test = pd.read_csv('../input/test.csv')\nY_train = data_train['label'].values",
      "execution_count": 2,
      "outputs": []
    },
    {
      "metadata": {
        "trusted": true,
        "_uuid": "fc6d72e4de64355eb0be44e3a4fb849b360a9c2c"
      },
      "cell_type": "code",
      "source": "X_train = data_train.loc[:,'pixel0':'pixel783'].values\nX_train = np.array(X_train)\nX_train = X_train.reshape([-1,28,28,1])\nY_train = Y_train.reshape([-1,1])\nprint(X_train.shape)\nprint(Y_train.shape)",
      "execution_count": 3,
      "outputs": [
        {
          "output_type": "stream",
          "text": "(42000, 28, 28, 1)\n(42000, 1)\n",
          "name": "stdout"
        }
      ]
    },
    {
      "metadata": {
        "trusted": true,
        "_uuid": "77de75449d3d66b87603f72f5e301f3771e51355"
      },
      "cell_type": "code",
      "source": "X_test = data_test.loc[:,'pixel0':'pixel783'].values\nX_test = np.array(X_test)\nX_test = X_test.reshape([-1,28,28,1])\nprint(X_test.shape)",
      "execution_count": 4,
      "outputs": [
        {
          "output_type": "stream",
          "text": "(28000, 28, 28, 1)\n",
          "name": "stdout"
        }
      ]
    },
    {
      "metadata": {
        "trusted": true,
        "_uuid": "6c31876b15acd1e373852dabe5a80bcc4dbdd3f5"
      },
      "cell_type": "code",
      "source": "X_train = X_train/255\nX_test = X_test/255\nrandom_seed = 2\nX_train, X_val, Y_train, Y_val = train_test_split(X_train, Y_train, test_size = 0.1, random_state = random_seed)",
      "execution_count": 5,
      "outputs": []
    },
    {
      "metadata": {
        "trusted": true,
        "_uuid": "ff5f42543dcbd70eed7db3f968f41f1f29938ca7"
      },
      "cell_type": "code",
      "source": "Y_train = to_categorical(Y_train)\nY_val = to_categorical(Y_val)\nprint(Y_train.shape)",
      "execution_count": 6,
      "outputs": [
        {
          "output_type": "stream",
          "text": "(37800, 10)\n",
          "name": "stdout"
        }
      ]
    },
    {
      "metadata": {
        "trusted": true,
        "_uuid": "e3707d90068f7124b778c3490b720e75d0da56c3"
      },
      "cell_type": "code",
      "source": "inputs = Input(shape = (28,28,1))\nconv1 = Conv2D(16, 3, activation = 'tanh', padding = 'same')(inputs)\npool1 = MaxPooling2D(pool_size = (2,2))(conv1)\nconv2 = Conv2D(32, 3, activation = 'tanh', padding = 'same')(pool1)\npool2 = MaxPooling2D(pool_size = (2,2))(conv2)\nconv3 = Conv2D(64, 3, activation = 'tanh', padding = 'same')(pool2)\ndrop3 = Dropout(0.2)(conv3)\nconv4 = Conv2D(128, 3, activation = 'tanh', padding = 'same')(drop3)\nflat = Flatten()(conv4)\ndense1 = Dense(256, activation = 'tanh', kernel_regularizer=regularizers.l2(0.01))(flat)\ndrop_fc1 = Dropout(0.5)(dense1)\noutputs = Dense(10, activation = 'softmax')(drop_fc1)\nmodel = Model(input = inputs, output = outputs)\nprint(model.summary())\nplot_model(model, to_file = 'model.png')",
      "execution_count": 7,
      "outputs": [
        {
          "output_type": "stream",
          "text": "/opt/conda/lib/python3.6/site-packages/ipykernel_launcher.py:13: UserWarning: Update your `Model` call to the Keras 2 API: `Model(inputs=Tensor(\"in..., outputs=Tensor(\"de...)`\n  del sys.path[0]\n",
          "name": "stderr"
        },
        {
          "output_type": "stream",
          "text": "_________________________________________________________________\nLayer (type)                 Output Shape              Param #   \n=================================================================\ninput_1 (InputLayer)         (None, 28, 28, 1)         0         \n_________________________________________________________________\nconv2d_1 (Conv2D)            (None, 28, 28, 16)        160       \n_________________________________________________________________\nmax_pooling2d_1 (MaxPooling2 (None, 14, 14, 16)        0         \n_________________________________________________________________\nconv2d_2 (Conv2D)            (None, 14, 14, 32)        4640      \n_________________________________________________________________\nmax_pooling2d_2 (MaxPooling2 (None, 7, 7, 32)          0         \n_________________________________________________________________\nconv2d_3 (Conv2D)            (None, 7, 7, 64)          18496     \n_________________________________________________________________\ndropout_1 (Dropout)          (None, 7, 7, 64)          0         \n_________________________________________________________________\nconv2d_4 (Conv2D)            (None, 7, 7, 128)         73856     \n_________________________________________________________________\nflatten_1 (Flatten)          (None, 6272)              0         \n_________________________________________________________________\ndense_1 (Dense)              (None, 256)               1605888   \n_________________________________________________________________\ndropout_2 (Dropout)          (None, 256)               0         \n_________________________________________________________________\ndense_2 (Dense)              (None, 10)                2570      \n=================================================================\nTotal params: 1,705,610\nTrainable params: 1,705,610\nNon-trainable params: 0\n_________________________________________________________________\nNone\n",
          "name": "stdout"
        }
      ]
    },
    {
      "metadata": {
        "trusted": true,
        "_uuid": "550682ee8f4b2999bebc4ce49a417ea86a439fb1"
      },
      "cell_type": "code",
      "source": "model.compile(Adam(lr = 10e-4), loss = \"categorical_crossentropy\", metrics = [\"accuracy\"])\nhistory = model.fit(x = X_train, y = Y_train, epochs = 100, batch_size = 6000, validation_data = (X_val, Y_val), verbose = 1 )",
      "execution_count": 8,
      "outputs": [
        {
          "output_type": "stream",
          "text": "Train on 37800 samples, validate on 4200 samples\nEpoch 1/100\n37800/37800 [==============================] - 7s 192us/step - loss: 5.7813 - acc: 0.5688 - val_loss: 3.7628 - val_acc: 0.8214\nEpoch 2/100\n37800/37800 [==============================] - 2s 53us/step - loss: 3.1223 - acc: 0.8354 - val_loss: 2.1076 - val_acc: 0.8850\nEpoch 3/100\n37800/37800 [==============================] - 2s 53us/step - loss: 1.7292 - acc: 0.8783 - val_loss: 1.1105 - val_acc: 0.9081\nEpoch 4/100\n37800/37800 [==============================] - 2s 53us/step - loss: 0.9453 - acc: 0.8993 - val_loss: 0.6349 - val_acc: 0.9183\nEpoch 5/100\n37800/37800 [==============================] - 2s 53us/step - loss: 0.5707 - acc: 0.9145 - val_loss: 0.4147 - val_acc: 0.9381\nEpoch 6/100\n37800/37800 [==============================] - 2s 53us/step - loss: 0.4024 - acc: 0.9289 - val_loss: 0.3245 - val_acc: 0.9405\nEpoch 7/100\n37800/37800 [==============================] - 2s 53us/step - loss: 0.3190 - acc: 0.9384 - val_loss: 0.2657 - val_acc: 0.9514\nEpoch 8/100\n37800/37800 [==============================] - 2s 53us/step - loss: 0.2658 - acc: 0.9482 - val_loss: 0.2370 - val_acc: 0.9564\nEpoch 9/100\n37800/37800 [==============================] - 2s 53us/step - loss: 0.2322 - acc: 0.9551 - val_loss: 0.2003 - val_acc: 0.9626\nEpoch 10/100\n37800/37800 [==============================] - 2s 53us/step - loss: 0.2041 - acc: 0.9586 - val_loss: 0.1933 - val_acc: 0.9598\nEpoch 11/100\n37800/37800 [==============================] - 2s 53us/step - loss: 0.1878 - acc: 0.9619 - val_loss: 0.1639 - val_acc: 0.9645\nEpoch 12/100\n37800/37800 [==============================] - 2s 52us/step - loss: 0.1734 - acc: 0.9646 - val_loss: 0.1628 - val_acc: 0.9688\nEpoch 13/100\n37800/37800 [==============================] - 2s 53us/step - loss: 0.1634 - acc: 0.9660 - val_loss: 0.1474 - val_acc: 0.9674\nEpoch 14/100\n37800/37800 [==============================] - 2s 53us/step - loss: 0.1598 - acc: 0.9652 - val_loss: 0.1448 - val_acc: 0.9686\nEpoch 15/100\n37800/37800 [==============================] - 2s 52us/step - loss: 0.1510 - acc: 0.9683 - val_loss: 0.1450 - val_acc: 0.9674\nEpoch 16/100\n37800/37800 [==============================] - 2s 53us/step - loss: 0.1522 - acc: 0.9677 - val_loss: 0.1418 - val_acc: 0.9700\nEpoch 17/100\n37800/37800 [==============================] - 2s 53us/step - loss: 0.1450 - acc: 0.9696 - val_loss: 0.1340 - val_acc: 0.9724\nEpoch 18/100\n37800/37800 [==============================] - 2s 53us/step - loss: 0.1440 - acc: 0.9693 - val_loss: 0.1425 - val_acc: 0.9712\nEpoch 19/100\n37800/37800 [==============================] - 2s 53us/step - loss: 0.1420 - acc: 0.9711 - val_loss: 0.1322 - val_acc: 0.9721\nEpoch 20/100\n37800/37800 [==============================] - 2s 53us/step - loss: 0.1364 - acc: 0.9715 - val_loss: 0.1256 - val_acc: 0.9726\nEpoch 21/100\n37800/37800 [==============================] - 2s 52us/step - loss: 0.1343 - acc: 0.9719 - val_loss: 0.1310 - val_acc: 0.9719\nEpoch 22/100\n37800/37800 [==============================] - 2s 53us/step - loss: 0.1318 - acc: 0.9728 - val_loss: 0.1262 - val_acc: 0.9724\nEpoch 23/100\n37800/37800 [==============================] - 2s 53us/step - loss: 0.1281 - acc: 0.9735 - val_loss: 0.1237 - val_acc: 0.9755\nEpoch 24/100\n37800/37800 [==============================] - 2s 53us/step - loss: 0.1252 - acc: 0.9745 - val_loss: 0.1239 - val_acc: 0.9733\nEpoch 25/100\n37800/37800 [==============================] - 2s 53us/step - loss: 0.1273 - acc: 0.9737 - val_loss: 0.1154 - val_acc: 0.9750\nEpoch 26/100\n37800/37800 [==============================] - 2s 53us/step - loss: 0.1215 - acc: 0.9756 - val_loss: 0.1174 - val_acc: 0.9731\nEpoch 27/100\n37800/37800 [==============================] - 2s 53us/step - loss: 0.1224 - acc: 0.9737 - val_loss: 0.1178 - val_acc: 0.9738\nEpoch 28/100\n37800/37800 [==============================] - 2s 52us/step - loss: 0.1215 - acc: 0.9748 - val_loss: 0.1150 - val_acc: 0.9762\nEpoch 29/100\n37800/37800 [==============================] - 2s 53us/step - loss: 0.1173 - acc: 0.9762 - val_loss: 0.1162 - val_acc: 0.9774\nEpoch 30/100\n37800/37800 [==============================] - 2s 53us/step - loss: 0.1149 - acc: 0.9762 - val_loss: 0.1115 - val_acc: 0.9757\nEpoch 31/100\n37800/37800 [==============================] - 2s 53us/step - loss: 0.1150 - acc: 0.9761 - val_loss: 0.1197 - val_acc: 0.9755\nEpoch 32/100\n37800/37800 [==============================] - 2s 53us/step - loss: 0.1167 - acc: 0.9754 - val_loss: 0.1044 - val_acc: 0.9783\nEpoch 33/100\n37800/37800 [==============================] - 2s 53us/step - loss: 0.1159 - acc: 0.9758 - val_loss: 0.1162 - val_acc: 0.9776\nEpoch 34/100\n37800/37800 [==============================] - 2s 53us/step - loss: 0.1140 - acc: 0.9761 - val_loss: 0.1082 - val_acc: 0.9781\nEpoch 35/100\n37800/37800 [==============================] - 2s 53us/step - loss: 0.1103 - acc: 0.9781 - val_loss: 0.1003 - val_acc: 0.9798\nEpoch 36/100\n37800/37800 [==============================] - 2s 53us/step - loss: 0.1071 - acc: 0.9784 - val_loss: 0.1040 - val_acc: 0.9760\nEpoch 37/100\n37800/37800 [==============================] - 2s 53us/step - loss: 0.1084 - acc: 0.9780 - val_loss: 0.1052 - val_acc: 0.9795\nEpoch 38/100\n37800/37800 [==============================] - 2s 53us/step - loss: 0.1081 - acc: 0.9778 - val_loss: 0.1117 - val_acc: 0.9748\nEpoch 39/100\n37800/37800 [==============================] - 2s 53us/step - loss: 0.1126 - acc: 0.9768 - val_loss: 0.1057 - val_acc: 0.9769\nEpoch 40/100\n37800/37800 [==============================] - 2s 53us/step - loss: 0.1059 - acc: 0.9793 - val_loss: 0.1014 - val_acc: 0.9807\nEpoch 41/100\n37800/37800 [==============================] - 2s 53us/step - loss: 0.1043 - acc: 0.9797 - val_loss: 0.0972 - val_acc: 0.9812\nEpoch 42/100\n37800/37800 [==============================] - 2s 53us/step - loss: 0.1003 - acc: 0.9812 - val_loss: 0.1017 - val_acc: 0.9793\nEpoch 43/100\n37800/37800 [==============================] - 2s 53us/step - loss: 0.1038 - acc: 0.9798 - val_loss: 0.0919 - val_acc: 0.9826\nEpoch 44/100\n37800/37800 [==============================] - 2s 53us/step - loss: 0.1012 - acc: 0.9795 - val_loss: 0.1024 - val_acc: 0.9786\nEpoch 45/100\n37800/37800 [==============================] - 2s 53us/step - loss: 0.1017 - acc: 0.9797 - val_loss: 0.0984 - val_acc: 0.9793\nEpoch 46/100\n37800/37800 [==============================] - 2s 53us/step - loss: 0.1001 - acc: 0.9804 - val_loss: 0.0937 - val_acc: 0.9810\nEpoch 47/100\n37800/37800 [==============================] - 2s 53us/step - loss: 0.0989 - acc: 0.9808 - val_loss: 0.1024 - val_acc: 0.9783\nEpoch 48/100\n37800/37800 [==============================] - 2s 53us/step - loss: 0.1016 - acc: 0.9805 - val_loss: 0.0976 - val_acc: 0.9807\nEpoch 49/100\n37800/37800 [==============================] - 2s 53us/step - loss: 0.1041 - acc: 0.9794 - val_loss: 0.1041 - val_acc: 0.9798\nEpoch 50/100\n37800/37800 [==============================] - 2s 53us/step - loss: 0.1068 - acc: 0.9787 - val_loss: 0.1085 - val_acc: 0.9793\nEpoch 51/100\n37800/37800 [==============================] - 2s 53us/step - loss: 0.1010 - acc: 0.9812 - val_loss: 0.1018 - val_acc: 0.9805\nEpoch 52/100\n37800/37800 [==============================] - 2s 53us/step - loss: 0.1025 - acc: 0.9800 - val_loss: 0.1027 - val_acc: 0.9800\nEpoch 53/100\n37800/37800 [==============================] - 2s 53us/step - loss: 0.1000 - acc: 0.9806 - val_loss: 0.0928 - val_acc: 0.9829\nEpoch 54/100\n37800/37800 [==============================] - 2s 53us/step - loss: 0.0952 - acc: 0.9823 - val_loss: 0.0920 - val_acc: 0.9831\nEpoch 55/100\n37800/37800 [==============================] - 2s 53us/step - loss: 0.0934 - acc: 0.9826 - val_loss: 0.0910 - val_acc: 0.9829\nEpoch 56/100\n37800/37800 [==============================] - 2s 53us/step - loss: 0.0941 - acc: 0.9816 - val_loss: 0.0973 - val_acc: 0.9798\nEpoch 57/100\n37800/37800 [==============================] - 2s 53us/step - loss: 0.0968 - acc: 0.9810 - val_loss: 0.1073 - val_acc: 0.9776\nEpoch 58/100\n37800/37800 [==============================] - 2s 53us/step - loss: 0.1015 - acc: 0.9799 - val_loss: 0.0936 - val_acc: 0.9824\nEpoch 59/100\n",
          "name": "stdout"
        },
        {
          "output_type": "stream",
          "text": "37800/37800 [==============================] - 2s 53us/step - loss: 0.0988 - acc: 0.9811 - val_loss: 0.1017 - val_acc: 0.9805\nEpoch 60/100\n37800/37800 [==============================] - 2s 53us/step - loss: 0.1016 - acc: 0.9811 - val_loss: 0.1061 - val_acc: 0.9781\nEpoch 61/100\n37800/37800 [==============================] - 2s 53us/step - loss: 0.0997 - acc: 0.9814 - val_loss: 0.1012 - val_acc: 0.9817\nEpoch 62/100\n37800/37800 [==============================] - 2s 53us/step - loss: 0.1011 - acc: 0.9814 - val_loss: 0.0978 - val_acc: 0.9829\nEpoch 63/100\n37800/37800 [==============================] - 2s 53us/step - loss: 0.0995 - acc: 0.9812 - val_loss: 0.0900 - val_acc: 0.9857\nEpoch 64/100\n37800/37800 [==============================] - 2s 53us/step - loss: 0.0954 - acc: 0.9824 - val_loss: 0.0957 - val_acc: 0.9821\nEpoch 65/100\n37800/37800 [==============================] - 2s 53us/step - loss: 0.0972 - acc: 0.9812 - val_loss: 0.0992 - val_acc: 0.9829\nEpoch 66/100\n37800/37800 [==============================] - 2s 53us/step - loss: 0.1000 - acc: 0.9805 - val_loss: 0.0957 - val_acc: 0.9826\nEpoch 67/100\n37800/37800 [==============================] - 2s 53us/step - loss: 0.1031 - acc: 0.9807 - val_loss: 0.1090 - val_acc: 0.9807\nEpoch 68/100\n37800/37800 [==============================] - 2s 53us/step - loss: 0.0997 - acc: 0.9821 - val_loss: 0.0991 - val_acc: 0.9821\nEpoch 69/100\n37800/37800 [==============================] - 2s 53us/step - loss: 0.0925 - acc: 0.9837 - val_loss: 0.0890 - val_acc: 0.9833\nEpoch 70/100\n37800/37800 [==============================] - 2s 52us/step - loss: 0.0896 - acc: 0.9834 - val_loss: 0.0870 - val_acc: 0.9845\nEpoch 71/100\n37800/37800 [==============================] - 2s 53us/step - loss: 0.0887 - acc: 0.9836 - val_loss: 0.0940 - val_acc: 0.9810\nEpoch 72/100\n37800/37800 [==============================] - 2s 53us/step - loss: 0.0918 - acc: 0.9822 - val_loss: 0.1108 - val_acc: 0.9774\nEpoch 73/100\n37800/37800 [==============================] - 2s 53us/step - loss: 0.0981 - acc: 0.9815 - val_loss: 0.1015 - val_acc: 0.9821\nEpoch 74/100\n37800/37800 [==============================] - 2s 53us/step - loss: 0.0960 - acc: 0.9834 - val_loss: 0.0988 - val_acc: 0.9812\nEpoch 75/100\n37800/37800 [==============================] - 2s 52us/step - loss: 0.0929 - acc: 0.9830 - val_loss: 0.0952 - val_acc: 0.9819\nEpoch 76/100\n37800/37800 [==============================] - 2s 52us/step - loss: 0.0915 - acc: 0.9829 - val_loss: 0.0896 - val_acc: 0.9831\nEpoch 77/100\n37800/37800 [==============================] - 2s 52us/step - loss: 0.0906 - acc: 0.9828 - val_loss: 0.0872 - val_acc: 0.9857\nEpoch 78/100\n37800/37800 [==============================] - 2s 53us/step - loss: 0.0865 - acc: 0.9850 - val_loss: 0.0838 - val_acc: 0.9852\nEpoch 79/100\n37800/37800 [==============================] - 2s 53us/step - loss: 0.0869 - acc: 0.9844 - val_loss: 0.0953 - val_acc: 0.9831\nEpoch 80/100\n37800/37800 [==============================] - 2s 53us/step - loss: 0.0895 - acc: 0.9838 - val_loss: 0.0955 - val_acc: 0.9814\nEpoch 81/100\n37800/37800 [==============================] - 2s 53us/step - loss: 0.0884 - acc: 0.9829 - val_loss: 0.0872 - val_acc: 0.9838\nEpoch 82/100\n37800/37800 [==============================] - 2s 53us/step - loss: 0.0836 - acc: 0.9859 - val_loss: 0.0845 - val_acc: 0.9848\nEpoch 83/100\n37800/37800 [==============================] - 2s 53us/step - loss: 0.0841 - acc: 0.9851 - val_loss: 0.0837 - val_acc: 0.9848\nEpoch 84/100\n37800/37800 [==============================] - 2s 53us/step - loss: 0.0809 - acc: 0.9858 - val_loss: 0.0878 - val_acc: 0.9814\nEpoch 85/100\n37800/37800 [==============================] - 2s 53us/step - loss: 0.0811 - acc: 0.9855 - val_loss: 0.0849 - val_acc: 0.9843\nEpoch 86/100\n37800/37800 [==============================] - 2s 54us/step - loss: 0.0831 - acc: 0.9844 - val_loss: 0.0853 - val_acc: 0.9857\nEpoch 87/100\n37800/37800 [==============================] - 2s 53us/step - loss: 0.0815 - acc: 0.9849 - val_loss: 0.0841 - val_acc: 0.9850\nEpoch 88/100\n37800/37800 [==============================] - 2s 53us/step - loss: 0.0789 - acc: 0.9865 - val_loss: 0.0808 - val_acc: 0.9860\nEpoch 89/100\n37800/37800 [==============================] - 2s 53us/step - loss: 0.0794 - acc: 0.9863 - val_loss: 0.0817 - val_acc: 0.9838\nEpoch 90/100\n37800/37800 [==============================] - 2s 53us/step - loss: 0.0769 - acc: 0.9859 - val_loss: 0.0875 - val_acc: 0.9845\nEpoch 91/100\n37800/37800 [==============================] - 2s 53us/step - loss: 0.0781 - acc: 0.9852 - val_loss: 0.0762 - val_acc: 0.9864\nEpoch 92/100\n37800/37800 [==============================] - 2s 53us/step - loss: 0.0782 - acc: 0.9859 - val_loss: 0.0884 - val_acc: 0.9840\nEpoch 93/100\n37800/37800 [==============================] - 2s 53us/step - loss: 0.0810 - acc: 0.9848 - val_loss: 0.0900 - val_acc: 0.9831\nEpoch 94/100\n37800/37800 [==============================] - 2s 53us/step - loss: 0.0826 - acc: 0.9856 - val_loss: 0.0873 - val_acc: 0.9833\nEpoch 95/100\n37800/37800 [==============================] - 2s 53us/step - loss: 0.0809 - acc: 0.9863 - val_loss: 0.0828 - val_acc: 0.9848\nEpoch 96/100\n37800/37800 [==============================] - 2s 53us/step - loss: 0.0799 - acc: 0.9862 - val_loss: 0.0854 - val_acc: 0.9814\nEpoch 97/100\n37800/37800 [==============================] - 2s 53us/step - loss: 0.0860 - acc: 0.9840 - val_loss: 0.0868 - val_acc: 0.9855\nEpoch 98/100\n37800/37800 [==============================] - 2s 53us/step - loss: 0.0851 - acc: 0.9853 - val_loss: 0.0885 - val_acc: 0.9850\nEpoch 99/100\n37800/37800 [==============================] - 2s 53us/step - loss: 0.0827 - acc: 0.9857 - val_loss: 0.0898 - val_acc: 0.9838\nEpoch 100/100\n37800/37800 [==============================] - 2s 53us/step - loss: 0.0807 - acc: 0.9862 - val_loss: 0.0889 - val_acc: 0.9845\n",
          "name": "stdout"
        }
      ]
    },
    {
      "metadata": {
        "trusted": true,
        "_uuid": "8ee3b28e75c89f0890107a0dd02f2a8aa51b6a62"
      },
      "cell_type": "code",
      "source": "# Plot the loss and accuracy curves for training and validation \nfig, ax = plt.subplots(2,1)\nax[0].plot(history.history['loss'], color='b', label=\"Training loss\")\nax[0].plot(history.history['val_loss'], color='r', label=\"validation loss\",axes =ax[0])\nlegend = ax[0].legend(loc='best', shadow=True)\n\nax[1].plot(history.history['acc'], color='b', label=\"Training accuracy\")\nax[1].plot(history.history['val_acc'], color='r',label=\"Validation accuracy\")\nlegend = ax[1].legend(loc='best', shadow=True)",
      "execution_count": 12,
      "outputs": [
        {
          "output_type": "display_data",
          "data": {
            "text/plain": "<Figure size 432x288 with 2 Axes>",
            "image/png": "[encoded data removed]"
          },
          "metadata": {
            "needs_background": "light"
          }
        }
      ]
    },
    {
      "metadata": {
        "trusted": true,
        "_uuid": "98fcc67ad10916758a278ad54b995a222be8c8f7"
      },
      "cell_type": "code",
      "source": "ans = model.predict(x = X_test, verbose = 1)",
      "execution_count": 13,
      "outputs": [
        {
          "output_type": "stream",
          "text": "28000/28000 [==============================] - 3s 91us/step\n",
          "name": "stdout"
        }
      ]
    },
    {
      "metadata": {
        "trusted": true,
        "_uuid": "e48fdca6d30354db135257388416b8dc9453f324"
      },
      "cell_type": "code",
      "source": "ans = np.argmax(ans, axis =1)",
      "execution_count": 14,
      "outputs": []
    },
    {
      "metadata": {
        "trusted": true,
        "_uuid": "f01ed3181df14c9e0ff98cd3d02feb89a797e0e9"
      },
      "cell_type": "code",
      "source": "print(ans)",
      "execution_count": 15,
      "outputs": [
        {
          "output_type": "stream",
          "text": "[2 0 9 ... 3 9 2]\n",
          "name": "stdout"
        }
      ]
    },
    {
      "metadata": {
        "trusted": true,
        "_uuid": "728f2929ac55684b42ec656ac62bc15aa9ae3c56"
      },
      "cell_type": "code",
      "source": "ans = pd.Series(ans, name = 'Label')\nindex = pd.Series(range(1,28001), name = 'ImageID')\nsubmission = pd.concat([index, ans], axis = 1)",
      "execution_count": 16,
      "outputs": []
    },
    {
      "metadata": {
        "trusted": true,
        "_uuid": "ad34bc62545cf8043bd938d6c4a0ec7f9f32a21a"
      },
      "cell_type": "code",
      "source": "submission.to_csv(\"cnn_mnist.csv\",index=False)",
      "execution_count": null,
      "outputs": []
    },
    {
      "metadata": {
        "trusted": true,
        "_uuid": "d4a7f626dea8d229d70276b1c5ed8e0a075fd608"
      },
      "cell_type": "code",
      "source": "",
      "execution_count": null,
      "outputs": []
    }
  ],
  "metadata": {
    "kernelspec": {
      "display_name": "Python 3",
      "language": "python",
      "name": "python3"
    },
    "language_info": {
      "name": "python",
      "version": "3.6.6",
      "mimetype": "text/x-python",
      "codemirror_mode": {
        "name": "ipython",
        "version": 3
      },
      "pygments_lexer": "ipython3",
      "nbconvert_exporter": "python",
      "file_extension": ".py"
    }
  },
  "nbformat": 4,
  "nbformat_minor": 1
}