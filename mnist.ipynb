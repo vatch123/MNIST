{
  "cells": [
    {
      "metadata": {
        "_uuid": "8f2839f25d086af736a60e9eeb907d3b93b6e0e5",
        "_cell_guid": "b1076dfc-b9ad-4769-8c92-a6c4dae69d19",
        "trusted": true
      },
      "cell_type": "code",
      "source": "# This Python 3 environment comes with many helpful analytics libraries installed\n# It is defined by the kaggle/python docker image: https://github.com/kaggle/docker-python\n# For example, here's several helpful packages to load in \n\nimport numpy as np # linear algebra\nimport pandas as pd # data processing, CSV file I/O (e.g. pd.read_csv)\nfrom keras.models import *\nfrom keras.layers import *\nfrom keras.optimizers import *\nfrom keras.utils import *\nimport matplotlib.pyplot as plt\nfrom sklearn.model_selection import train_test_split\n# Input data files are available in the \"../input/\" directory.\n# For example, running this (by clicking run or pressing Shift+Enter) will list the files in the input directory\n\nimport os\nprint(os.listdir(\"../input\"))\n\n# Any results you write to the current directory are saved as output.",
      "execution_count": 1,
      "outputs": [
        {
          "output_type": "stream",
          "text": "Using TensorFlow backend.\n",
          "name": "stderr"
        },
        {
          "output_type": "stream",
          "text": "['train.csv', 'sample_submission.csv', 'test.csv']\n",
          "name": "stdout"
        }
      ]
    },
    {
      "metadata": {
        "_cell_guid": "79c7e3d0-c299-4dcb-8224-4455121ee9b0",
        "_uuid": "d629ff2d2480ee46fbb7e2d37f6b5fab8052498a",
        "trusted": true
      },
      "cell_type": "code",
      "source": "data_train = pd.read_csv('../input/train.csv')\ndata_test = pd.read_csv('../input/test.csv')\nY_train = data_train['label'].values",
      "execution_count": 2,
      "outputs": []
    },
    {
      "metadata": {
        "trusted": true,
        "_uuid": "fc6d72e4de64355eb0be44e3a4fb849b360a9c2c"
      },
      "cell_type": "code",
      "source": "X_train = data_train.loc[:,'pixel0':'pixel783'].values\nX_train = np.array(X_train)\nX_train = X_train.reshape([-1,28,28,1])\nY_train = Y_train.reshape([-1,1])\nprint(X_train.shape)\nprint(Y_train.shape)",
      "execution_count": 3,
      "outputs": [
        {
          "output_type": "stream",
          "text": "(42000, 28, 28, 1)\n(42000, 1)\n",
          "name": "stdout"
        }
      ]
    },
    {
      "metadata": {
        "trusted": true,
        "_uuid": "77de75449d3d66b87603f72f5e301f3771e51355"
      },
      "cell_type": "code",
      "source": "X_test = data_test.loc[:,'pixel0':'pixel783'].values\nX_test = np.array(X_test)\nX_test = X_test.reshape([-1,28,28,1])\nprint(X_test.shape)",
      "execution_count": 4,
      "outputs": [
        {
          "output_type": "stream",
          "text": "(28000, 28, 28, 1)\n",
          "name": "stdout"
        }
      ]
    },
    {
      "metadata": {
        "trusted": true,
        "_uuid": "6c31876b15acd1e373852dabe5a80bcc4dbdd3f5"
      },
      "cell_type": "code",
      "source": "X_train = X_train/255\nX_test = X_test/255\nrandom_seed = 2\nX_train, X_val, Y_train, Y_val = train_test_split(X_train, Y_train, test_size = 0.1, random_state = random_seed)",
      "execution_count": 5,
      "outputs": []
    },
    {
      "metadata": {
        "trusted": true,
        "_uuid": "ff5f42543dcbd70eed7db3f968f41f1f29938ca7"
      },
      "cell_type": "code",
      "source": "Y_train = to_categorical(Y_train)\nY_val = to_categorical(Y_val)\nprint(Y_train.shape)",
      "execution_count": 6,
      "outputs": [
        {
          "output_type": "stream",
          "text": "(37800, 10)\n",
          "name": "stdout"
        }
      ]
    },
    {
      "metadata": {
        "trusted": true,
        "_uuid": "e3707d90068f7124b778c3490b720e75d0da56c3"
      },
      "cell_type": "code",
      "source": "inputs = Input(shape = (28,28,1))\nconv0 = Conv2D(64, 3, padding = 'same', activation = 'relu')(inputs)\nconv1 = Conv2D(64, 3, padding='same', activation='relu')(conv0)\nconv2 = Conv2D(128, 3, padding='same', activation='relu')(conv1)\npool2 = MaxPooling2D((2,2))(conv2)\nconv3 = Conv2D(128, 3, padding='same', activation='relu')(pool2)\nconv4 = Conv2D(256, 5, padding='same', activation='relu')(conv3)\npool4 = MaxPooling2D((2,2))(conv4)\nconv5 = Conv2D(256, 5, padding='same', activation='relu')(pool4)\nflat = Flatten()(conv5)\ndense0 = Dense(512, activation='relu')(flat)\ndense1 = Dense(128, activation='relu')(dense0)\ndense2 = Dense(64, activation='relu')(dense1)\ndense3 = Dense(10, activation='softmax')(dense2)\n\nmodel1 = Model(input = inputs, output = dense3)\nprint(model1.summary())",
      "execution_count": 7,
      "outputs": [
        {
          "output_type": "stream",
          "text": "_________________________________________________________________\nLayer (type)                 Output Shape              Param #   \n=================================================================\ninput_1 (InputLayer)         (None, 28, 28, 1)         0         \n_________________________________________________________________\nconv2d_1 (Conv2D)            (None, 28, 28, 64)        640       \n_________________________________________________________________\nconv2d_2 (Conv2D)            (None, 28, 28, 64)        36928     \n_________________________________________________________________\nconv2d_3 (Conv2D)            (None, 28, 28, 128)       73856     \n_________________________________________________________________\nmax_pooling2d_1 (MaxPooling2 (None, 14, 14, 128)       0         \n_________________________________________________________________\nconv2d_4 (Conv2D)            (None, 14, 14, 128)       147584    \n_________________________________________________________________\nconv2d_5 (Conv2D)            (None, 14, 14, 256)       819456    \n_________________________________________________________________\nmax_pooling2d_2 (MaxPooling2 (None, 7, 7, 256)         0         \n_________________________________________________________________\nconv2d_6 (Conv2D)            (None, 7, 7, 256)         1638656   \n_________________________________________________________________\nflatten_1 (Flatten)          (None, 12544)             0         \n_________________________________________________________________\ndense_1 (Dense)              (None, 512)               6423040   \n_________________________________________________________________\ndense_2 (Dense)              (None, 128)               65664     \n_________________________________________________________________\ndense_3 (Dense)              (None, 64)                8256      \n_________________________________________________________________\ndense_4 (Dense)              (None, 10)                650       \n=================================================================\nTotal params: 9,214,730\nTrainable params: 9,214,730\nNon-trainable params: 0\n_________________________________________________________________\nNone\n",
          "name": "stdout"
        },
        {
          "output_type": "stream",
          "text": "/opt/conda/lib/python3.6/site-packages/ipykernel_launcher.py:16: UserWarning: Update your `Model` call to the Keras 2 API: `Model(inputs=Tensor(\"in..., outputs=Tensor(\"de...)`\n  app.launch_new_instance()\n",
          "name": "stderr"
        }
      ]
    },
    {
      "metadata": {
        "trusted": true,
        "_uuid": "83aba32e008d2ae05a423e5afcca902473f00526"
      },
      "cell_type": "code",
      "source": "from keras.preprocessing.image import ImageDataGenerator\nfrom keras.callbacks import *",
      "execution_count": 8,
      "outputs": []
    },
    {
      "metadata": {
        "trusted": true,
        "_uuid": "093261821df6d06b3139b6f3173706ed728b5458"
      },
      "cell_type": "code",
      "source": "datagen = ImageDataGenerator(rotation_range = 10, zoom_range = 0.1, width_shift_range = 0.1, height_shift_range = 0.1)\ndatagen.fit(X_train)",
      "execution_count": 9,
      "outputs": []
    },
    {
      "metadata": {
        "trusted": true,
        "_uuid": "b6e935772287f7478e1f27e6befd42fb8921932a"
      },
      "cell_type": "code",
      "source": "model1.compile(Adam(lr = 10e-4), loss = 'categorical_crossentropy', metrics = ['accuracy'])",
      "execution_count": 10,
      "outputs": []
    },
    {
      "metadata": {
        "trusted": true,
        "_uuid": "a210e47cab1e3bb53b24489f27a5dc2bf13a7444"
      },
      "cell_type": "code",
      "source": "reduce_lr = ReduceLROnPlateau(monitor='val_loss', factor=0.8,\n                              patience=3)",
      "execution_count": 11,
      "outputs": []
    },
    {
      "metadata": {
        "trusted": true,
        "_uuid": "8fcde0a44dbc77beaeee9b2b3b79f71935e51e55"
      },
      "cell_type": "code",
      "source": "history = model1.fit_generator(datagen.flow(X_train, Y_train, batch_size = 200), epochs = 40, steps_per_epoch = 189, validation_data = (X_val, Y_val), callbacks = [reduce_lr])",
      "execution_count": 12,
      "outputs": [
        {
          "output_type": "stream",
          "text": "Epoch 1/40\n189/189 [==============================] - 34s 182ms/step - loss: 0.3848 - acc: 0.8695 - val_loss: 0.0525 - val_acc: 0.9840\nEpoch 2/40\n189/189 [==============================] - 30s 159ms/step - loss: 0.0699 - acc: 0.9789 - val_loss: 0.0538 - val_acc: 0.9848\nEpoch 3/40\n189/189 [==============================] - 30s 159ms/step - loss: 0.0516 - acc: 0.9847 - val_loss: 0.0335 - val_acc: 0.9921\nEpoch 4/40\n189/189 [==============================] - 30s 159ms/step - loss: 0.0415 - acc: 0.9871 - val_loss: 0.0232 - val_acc: 0.9931\nEpoch 5/40\n189/189 [==============================] - 30s 159ms/step - loss: 0.0362 - acc: 0.9892 - val_loss: 0.0195 - val_acc: 0.9933\nEpoch 6/40\n189/189 [==============================] - 30s 159ms/step - loss: 0.0313 - acc: 0.9908 - val_loss: 0.0217 - val_acc: 0.9940\nEpoch 7/40\n189/189 [==============================] - 30s 159ms/step - loss: 0.0268 - acc: 0.9923 - val_loss: 0.0197 - val_acc: 0.9945\nEpoch 8/40\n189/189 [==============================] - 30s 159ms/step - loss: 0.0296 - acc: 0.9917 - val_loss: 0.0295 - val_acc: 0.9917\nEpoch 9/40\n189/189 [==============================] - 30s 159ms/step - loss: 0.0202 - acc: 0.9939 - val_loss: 0.0272 - val_acc: 0.9929\nEpoch 10/40\n189/189 [==============================] - 30s 158ms/step - loss: 0.0191 - acc: 0.9944 - val_loss: 0.0193 - val_acc: 0.9945\nEpoch 11/40\n189/189 [==============================] - 30s 159ms/step - loss: 0.0183 - acc: 0.9947 - val_loss: 0.0211 - val_acc: 0.9950\nEpoch 12/40\n189/189 [==============================] - 30s 158ms/step - loss: 0.0180 - acc: 0.9946 - val_loss: 0.0193 - val_acc: 0.9938\nEpoch 13/40\n189/189 [==============================] - 30s 159ms/step - loss: 0.0167 - acc: 0.9948 - val_loss: 0.0168 - val_acc: 0.9943\nEpoch 14/40\n189/189 [==============================] - 30s 159ms/step - loss: 0.0178 - acc: 0.9949 - val_loss: 0.0237 - val_acc: 0.9938\nEpoch 15/40\n189/189 [==============================] - 30s 158ms/step - loss: 0.0154 - acc: 0.9956 - val_loss: 0.0310 - val_acc: 0.9921\nEpoch 16/40\n189/189 [==============================] - 30s 159ms/step - loss: 0.0162 - acc: 0.9953 - val_loss: 0.0239 - val_acc: 0.9950\nEpoch 17/40\n189/189 [==============================] - 30s 159ms/step - loss: 0.0107 - acc: 0.9968 - val_loss: 0.0198 - val_acc: 0.9945\nEpoch 18/40\n189/189 [==============================] - 30s 158ms/step - loss: 0.0102 - acc: 0.9967 - val_loss: 0.0241 - val_acc: 0.9936\nEpoch 19/40\n189/189 [==============================] - 30s 158ms/step - loss: 0.0124 - acc: 0.9966 - val_loss: 0.0258 - val_acc: 0.9914\nEpoch 20/40\n189/189 [==============================] - 30s 159ms/step - loss: 0.0077 - acc: 0.9975 - val_loss: 0.0195 - val_acc: 0.9943\nEpoch 21/40\n189/189 [==============================] - 30s 158ms/step - loss: 0.0071 - acc: 0.9978 - val_loss: 0.0324 - val_acc: 0.9931\nEpoch 22/40\n189/189 [==============================] - 30s 158ms/step - loss: 0.0074 - acc: 0.9977 - val_loss: 0.0166 - val_acc: 0.9945\nEpoch 23/40\n189/189 [==============================] - 30s 159ms/step - loss: 0.0071 - acc: 0.9978 - val_loss: 0.0209 - val_acc: 0.9938\nEpoch 24/40\n189/189 [==============================] - 30s 159ms/step - loss: 0.0061 - acc: 0.9981 - val_loss: 0.0214 - val_acc: 0.9948\nEpoch 25/40\n189/189 [==============================] - 30s 158ms/step - loss: 0.0071 - acc: 0.9978 - val_loss: 0.0248 - val_acc: 0.9940\nEpoch 26/40\n189/189 [==============================] - 30s 158ms/step - loss: 0.0064 - acc: 0.9981 - val_loss: 0.0234 - val_acc: 0.9936\nEpoch 27/40\n189/189 [==============================] - 30s 158ms/step - loss: 0.0056 - acc: 0.9981 - val_loss: 0.0260 - val_acc: 0.9936\nEpoch 28/40\n189/189 [==============================] - 30s 159ms/step - loss: 0.0049 - acc: 0.9986 - val_loss: 0.0228 - val_acc: 0.9936\nEpoch 29/40\n189/189 [==============================] - 30s 159ms/step - loss: 0.0046 - acc: 0.9985 - val_loss: 0.0160 - val_acc: 0.9957\nEpoch 30/40\n189/189 [==============================] - 30s 158ms/step - loss: 0.0040 - acc: 0.9989 - val_loss: 0.0247 - val_acc: 0.9943\nEpoch 31/40\n189/189 [==============================] - 30s 159ms/step - loss: 0.0039 - acc: 0.9989 - val_loss: 0.0259 - val_acc: 0.9943\nEpoch 32/40\n189/189 [==============================] - 30s 158ms/step - loss: 0.0037 - acc: 0.9990 - val_loss: 0.0290 - val_acc: 0.9929\nEpoch 33/40\n189/189 [==============================] - 30s 158ms/step - loss: 0.0020 - acc: 0.9993 - val_loss: 0.0345 - val_acc: 0.9926\nEpoch 34/40\n189/189 [==============================] - 30s 158ms/step - loss: 0.0033 - acc: 0.9990 - val_loss: 0.0317 - val_acc: 0.9933\nEpoch 35/40\n189/189 [==============================] - 30s 158ms/step - loss: 0.0033 - acc: 0.9990 - val_loss: 0.0201 - val_acc: 0.9948\nEpoch 36/40\n189/189 [==============================] - 30s 158ms/step - loss: 0.0033 - acc: 0.9991 - val_loss: 0.0150 - val_acc: 0.9962\nEpoch 37/40\n189/189 [==============================] - 30s 159ms/step - loss: 0.0018 - acc: 0.9994 - val_loss: 0.0196 - val_acc: 0.9952\nEpoch 38/40\n189/189 [==============================] - 30s 159ms/step - loss: 0.0019 - acc: 0.9993 - val_loss: 0.0276 - val_acc: 0.9945\nEpoch 39/40\n189/189 [==============================] - 30s 159ms/step - loss: 0.0024 - acc: 0.9992 - val_loss: 0.0163 - val_acc: 0.9957\nEpoch 40/40\n189/189 [==============================] - 30s 159ms/step - loss: 0.0019 - acc: 0.9995 - val_loss: 0.0255 - val_acc: 0.9948\n",
          "name": "stdout"
        }
      ]
    },
    {
      "metadata": {
        "trusted": true,
        "_uuid": "8ee3b28e75c89f0890107a0dd02f2a8aa51b6a62"
      },
      "cell_type": "code",
      "source": "# Plot the loss and accuracy curves for training and validation \nfig, ax = plt.subplots(2,1)\nax[0].plot(history.history['loss'], color='b', label=\"Training loss\")\nax[0].plot(history.history['val_loss'], color='r', label=\"validation loss\",axes =ax[0])\nlegend = ax[0].legend(loc='best', shadow=True)\n\nax[1].plot(history.history['acc'], color='b', label=\"Training accuracy\")\nax[1].plot(history.history['val_acc'], color='r',label=\"Validation accuracy\")\nlegend = ax[1].legend(loc='best', shadow=True)",
      "execution_count": 13,
      "outputs": [
        {
          "output_type": "display_data",
          "data": {
            "text/plain": "<Figure size 432x288 with 2 Axes>",
            "image/png": "[encoded data removed]"
          },
          "metadata": {}
        }
      ]
    },
    {
      "metadata": {
        "trusted": true,
        "_uuid": "98fcc67ad10916758a278ad54b995a222be8c8f7"
      },
      "cell_type": "code",
      "source": "ans = model1.predict(x = X_test, verbose = 1)",
      "execution_count": 14,
      "outputs": [
        {
          "output_type": "stream",
          "text": "28000/28000 [==============================] - 12s 416us/step\n",
          "name": "stdout"
        }
      ]
    },
    {
      "metadata": {
        "trusted": true,
        "_uuid": "e48fdca6d30354db135257388416b8dc9453f324"
      },
      "cell_type": "code",
      "source": "ans = np.argmax(ans, axis =1)",
      "execution_count": 15,
      "outputs": []
    },
    {
      "metadata": {
        "trusted": true,
        "_uuid": "f01ed3181df14c9e0ff98cd3d02feb89a797e0e9"
      },
      "cell_type": "code",
      "source": "print(ans)",
      "execution_count": 16,
      "outputs": [
        {
          "output_type": "stream",
          "text": "[2 0 9 ... 3 9 2]\n",
          "name": "stdout"
        }
      ]
    },
    {
      "metadata": {
        "trusted": true,
        "_uuid": "728f2929ac55684b42ec656ac62bc15aa9ae3c56"
      },
      "cell_type": "code",
      "source": "ans = pd.Series(ans, name = 'Label')\nindex = pd.Series(range(1,28001), name = 'ImageID')\nsubmission = pd.concat([index, ans], axis = 1)",
      "execution_count": 17,
      "outputs": []
    },
    {
      "metadata": {
        "trusted": true,
        "_uuid": "ad34bc62545cf8043bd938d6c4a0ec7f9f32a21a"
      },
      "cell_type": "code",
      "source": "submission.to_csv(\"cnn_mnist.csv\",index=False)",
      "execution_count": 18,
      "outputs": []
    },
    {
      "metadata": {
        "trusted": true,
        "_uuid": "d4a7f626dea8d229d70276b1c5ed8e0a075fd608"
      },
      "cell_type": "code",
      "source": "",
      "execution_count": null,
      "outputs": []
    }
  ],
  "metadata": {
    "kernelspec": {
      "display_name": "Python 3",
      "language": "python",
      "name": "python3"
    },
    "language_info": {
      "name": "python",
      "version": "3.6.6",
      "mimetype": "text/x-python",
      "codemirror_mode": {
        "name": "ipython",
        "version": 3
      },
      "pygments_lexer": "ipython3",
      "nbconvert_exporter": "python",
      "file_extension": ".py"
    }
  },
  "nbformat": 4,
  "nbformat_minor": 1
}